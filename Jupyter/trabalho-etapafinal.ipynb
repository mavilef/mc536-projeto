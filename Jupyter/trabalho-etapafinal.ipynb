{
 "cells": [
  {
   "cell_type": "markdown",
   "metadata": {},
   "source": [
    "# Trabalho - Etapa Final\n",
    "\n",
    "### GitHub: https://github.com/maviless/mc536-projeto\n",
    "\n",
    "## Duplas MAP e RAD\n",
    "## Membros:\n",
    "* Marcelo Martins Vilela Filho  - RA: 202619\n",
    "* Pedro Rodrigo Ramos Morelli   - RA: 204737\n",
    "* Renan Clarindo Amorim         - RA: 186454"
   ]
  },
  {
   "cell_type": "markdown",
   "metadata": {},
   "source": [
    "## Primeira Parte: Esquema relacional com SQL\n",
    "\n",
    "#### Fontes dos datasets utilizados:\n",
    "* Hospital General Information (hospital.csv), acesso em: https://data.medicare.gov/Hospital-Compare/Hospital-General-Information/xubh-q36u\n",
    "* Physician Compare National Downloadable File (doctor_mini.csv, reduzido do tamanho original de 700mb), acesso em: https://data.medicare.gov/Physician-Compare/Physician-Compare-National-Downloadable-File/mj5m-pzi6\n",
    "\n",
    "### Modelo Conceitual:\n",
    "![SQL](esquema_conceitual_sql_trabfinal.jpeg)\n",
    "### Modelo Lógico:\n",
    "![SQL2](esquema_relacional_sql_trabfinal.jpeg)"
   ]
  },
  {
   "cell_type": "code",
   "execution_count": null,
   "metadata": {},
   "outputs": [],
   "source": [
    "%defaultDatasource jdbc:h2:mem:db"
   ]
  },
  {
   "cell_type": "code",
   "execution_count": 2,
   "metadata": {},
   "outputs": [],
   "source": [
    "DROP TABLE IF EXISTS Medicos;\n",
    "DROP TABLE IF EXISTS Hospitais;\n",
    "\n",
    "\n",
    "CREATE TABLE Hospitais (\n",
    "    id VARCHAR(7) NOT NULL,\n",
    "    facility_name VARCHAR(200),\n",
    "    city VARCHAR(30),\n",
    "    county VARCHAR(30),\n",
    "    emergency_services VARCHAR(5),\n",
    "    patient_experience VARCHAR(100),\n",
    "    mortality VARCHAR(100),\n",
    "    safety_of_care VARCHAR(100),\n",
    "    readmission VARCHAR(100),\n",
    "    effectiveness_of_care VARCHAR(100),\n",
    "    overall_rating VARCHAR(20),\n",
    "    PRIMARY KEY (id)\n",
    ") AS SELECT \n",
    "    \"Facility ID\",\n",
    "    \"Facility Name\",\n",
    "    City,\n",
    "    \"County Name\",\n",
    "    \"Emergency Services\",\n",
    "    \"Patient experience national comparison\",\n",
    "    \"Mortality national comparison\",\n",
    "    \"Safety of care national comparison\",\n",
    "    \"Readmission national comparison\",\n",
    "    \"Effectiveness of care national comparison\",\n",
    "    \"Hospital overall rating\"\n",
    "FROM CSVREAD('hospital.csv');\n",
    "\n",
    "CREATE TABLE Medicos (\n",
    "    npi VARCHAR(15) NOT NULL,\n",
    "    first_name VARCHAR(100),\n",
    "    last_name VARCHAR(100),\n",
    "    gender VARCHAR(2),\n",
    "    specialty VARCHAR(50),\n",
    "    city VARCHAR(30),\n",
    "    hospital VARCHAR(200)\n",
    ") AS SELECT DISTINCT\n",
    "    NPI,\n",
    "    \"First Name\",\n",
    "    \"Last Name\",\n",
    "    Gender,\n",
    "    \"Primary specialty\",\n",
    "    City,\n",
    "    \"Hospital affiliation LBN 1\"\n",
    "FROM CSVREAD('doctor_mini.csv');"
   ]
  },
  {
   "cell_type": "markdown",
   "metadata": {},
   "source": [
    "* Query 1: Selecionada uma especialidade, listar os hospitais com mais médicos daquela especialidade\n",
    "\n",
    "(Expansão da Query 1 necessita de lógica relacional diferente, hierárquica.\n",
    "\n",
    "Ex: Para cada especialidade, listar o hospital com maior número de médicos que atendem aquela especialidade.\n",
    ")"
   ]
  },
  {
   "cell_type": "code",
   "execution_count": 3,
   "metadata": {},
   "outputs": [
    {
     "data": {
      "application/vnd.jupyter.widget-view+json": {
       "model_id": "7e9607d4-5ea6-41ef-b3e2-12a8299a062f",
       "version_major": 2,
       "version_minor": 0
      },
      "method": "display_data"
     },
     "metadata": {},
     "output_type": "display_data"
    }
   ],
   "source": [
    "SELECT h.facility_name, m.specialty, COUNT (*) aux\n",
    "FROM Medicos m, Hospitais h\n",
    "WHERE m.specialty = 'NEUROLOGY' AND h.facility_name = m.hospital\n",
    "GROUP BY h.facility_name\n",
    "ORDER BY aux DESC"
   ]
  },
  {
   "cell_type": "markdown",
   "metadata": {},
   "source": [
    "* Query 2: Listar os hospitais com mais médicos"
   ]
  },
  {
   "cell_type": "code",
   "execution_count": 4,
   "metadata": {},
   "outputs": [
    {
     "data": {
      "application/vnd.jupyter.widget-view+json": {
       "model_id": "4ea9c3e4-3c49-4658-b75e-551d33afc316",
       "version_major": 2,
       "version_minor": 0
      },
      "method": "display_data"
     },
     "metadata": {},
     "output_type": "display_data"
    }
   ],
   "source": [
    "SELECT Medicos.hospital, COUNT(*) aux\n",
    "    FROM Medicos, hospitais\n",
    "    WHERE Medicos.hospital = hospitais.facility_name\n",
    "    GROUP BY Medicos.hospital\n",
    "    ORDER BY aux DESC"
   ]
  },
  {
   "cell_type": "markdown",
   "metadata": {},
   "source": [
    "* Query 3: Listar os 10 melhores hospitais com alguma especialidade"
   ]
  },
  {
   "cell_type": "code",
   "execution_count": 5,
   "metadata": {},
   "outputs": [
    {
     "data": {
      "application/vnd.jupyter.widget-view+json": {
       "model_id": "c56ca430-6bd3-4638-829c-228d5d11cbb0",
       "version_major": 2,
       "version_minor": 0
      },
      "method": "display_data"
     },
     "metadata": {},
     "output_type": "display_data"
    }
   ],
   "source": [
    "SELECT h.facility_name, h.city\n",
    "    FROM Hospitais h, Medicos m\n",
    "    WHERE m.specialty = 'PATHOLOGY' \n",
    "    and m.hospital = h.facility_name \n",
    "    and h.overall_rating != 'Not Available'\n",
    "    ORDER BY h.overall_rating DESC \n",
    "    LIMIT 10"
   ]
  },
  {
   "cell_type": "markdown",
   "metadata": {},
   "source": [
    "* Query 4: Listar as cidades com mais hospitais"
   ]
  },
  {
   "cell_type": "code",
   "execution_count": 6,
   "metadata": {},
   "outputs": [
    {
     "data": {
      "application/vnd.jupyter.widget-view+json": {
       "model_id": "e49e4e56-aeda-42d9-a0d3-0887be234502",
       "version_major": 2,
       "version_minor": 0
      },
      "method": "display_data"
     },
     "metadata": {},
     "output_type": "display_data"
    }
   ],
   "source": [
    "SELECT city, COUNT(*) qtd\n",
    "    FROM Hospitais\n",
    "    GROUP BY city\n",
    "    ORDER BY qtd DESC"
   ]
  },
  {
   "cell_type": "markdown",
   "metadata": {},
   "source": [
    "* Query 5: Listar os médicos que trabalham nos hospitais com melhor experiência para o paciente"
   ]
  },
  {
   "cell_type": "code",
   "execution_count": 7,
   "metadata": {},
   "outputs": [
    {
     "data": {
      "application/vnd.jupyter.widget-view+json": {
       "model_id": "e94d243a-8886-44c3-bee6-88ce69627df8",
       "version_major": 2,
       "version_minor": 0
      },
      "method": "display_data"
     },
     "metadata": {},
     "output_type": "display_data"
    }
   ],
   "source": [
    "SELECT DISTINCT m.first_name, m.last_name, m.specialty\n",
    "    FROM Medicos m, Hospitais h\n",
    "    WHERE m.hospital = h.facility_name \n",
    "    and h.patient_experience = 'Above the national average'"
   ]
  },
  {
   "cell_type": "markdown",
   "metadata": {},
   "source": [
    "## Segunda Parte: Esquema hierárquico com XQuery\n",
    "\n",
    "#### Fontes dos datasets utilizados:\n",
    "* Hospital General Information (hospital2.xml), acesso em: http://www.students.ic.unicamp.br/~ra186454/hospital2.xml\n",
    "* Physician Compare National Downloadable File (doctor2_mini.xml, reduzido do tamanho original de 700mb), acesso em: http://www.students.ic.unicamp.br/~ra186454/doctor2_mini.xml\n",
    "\n",
    "### Modelo Conceitual:\n",
    "![XQuery1](esquema_conceitual_xquery_trabfinal.jpeg)\n",
    "### Modelo Lógico:\n",
    "![XQuery2](esquema_relacional_sql_trabfinal.jpeg)"
   ]
  },
  {
   "cell_type": "markdown",
   "metadata": {},
   "source": [
    "* Query 1: Contagem do número de médicos por especialidade"
   ]
  },
  {
   "cell_type": "code",
   "execution_count": null,
   "metadata": {},
   "outputs": [],
   "source": [
    "let $doctors := doc('http://www.students.ic.unicamp.br/~ra186454/doctor2_mini.xml')\n",
    "for $i in ($doctors//especialidade)\n",
    "for $j in $i//count(medico)\n",
    "return if ($j != 0) then ($i/@nome/string(), $j) else ()"
   ]
  },
  {
   "cell_type": "markdown",
   "metadata": {},
   "source": [
    "* Query 2: Seleciona os hospitais de excelência (melhores parâmetros de avaliação) e os lista por ordem descendente da melhor classificação"
   ]
  },
  {
   "cell_type": "code",
   "execution_count": null,
   "metadata": {},
   "outputs": [],
   "source": [
    "let $hospital := doc('http://www.students.ic.unicamp.br/~ra186454/hospital2.xml')\n",
    "for $x in $hospital/estados/estado/cidades/cidade/hospitais/hospital\n",
    "where $x/mortality=\"&#34;Below the national average&#34;\" and $x/safety=\"&#34;Above the national average&#34;\" \n",
    "and $x/effectiveness=\"&#34;Above the national average&#34;\"\n",
    "order by $x/hospital_rating descending \n",
    "return ( \"  - Nome do Hospital\" ,$x/facility_name/string(), \" Rating:\" ,$x/hospital_rating/string())"
   ]
  },
  {
   "cell_type": "markdown",
   "metadata": {},
   "source": [
    "* Query 3: Retorna o nome dos médicos que operam em hospitais cuja efetividade é acima da média nacional"
   ]
  },
  {
   "cell_type": "code",
   "execution_count": null,
   "metadata": {},
   "outputs": [],
   "source": [
    "let $hospital := doc('http://www.students.ic.unicamp.br/~ra186454/hospital2.xml')\n",
    "let $doctors := doc('http://www.students.ic.unicamp.br/~ra186454/doctor2_mini.xml')\n",
    "\n",
    "for $x in $hospital/estados/estado/cidades/cidade/hospitais/hospital\n",
    "for $y in $doctors/especialidades/especialidade/medicos/medico\n",
    "where $x/effectiveness=\"&#34;Above the national average&#34;\" and $x/facility_name=$y/hospital1\n",
    "return (\"Dr.\", $y/terceiro_nome/string(), \", \", $y/primeiro_nome/string() , \".  \")"
   ]
  },
  {
   "cell_type": "markdown",
   "metadata": {},
   "source": [
    "* Query 4: Para cada especialidade, listar o hospital com maior número de médicos que atendem aquela especialidade"
   ]
  },
  {
   "cell_type": "code",
   "execution_count": null,
   "metadata": {},
   "outputs": [],
   "source": [
    "let $hospital := doc('http://www.students.ic.unicamp.br/~ra186454/hospital2.xml')\n",
    "let $doctors := doc('http://www.students.ic.unicamp.br/~ra186454/doctor2_mini.xml')\n",
    "\n",
    "for $x in $doctors//especialidades\n",
    "for $y in distinct-values($x//hospital1)\n",
    "\n",
    "let $count := count($x//medico[@hospital1 eq $y])\n",
    "order by $count descending\n",
    "\n",
    "return concat(\"(\",\" \", $y,\" \",$count, \")\")"
   ]
  },
  {
   "cell_type": "markdown",
   "metadata": {},
   "source": [
    "* Query 5: Para cada cidade, listar qual a especialidade com mais médicos"
   ]
  },
  {
   "cell_type": "code",
   "execution_count": null,
   "metadata": {},
   "outputs": [],
   "source": [
    "let $hospital := doc('http://www.students.ic.unicamp.br/~ra186454/hospital2.xml')\n",
    "let $doctors := doc('http://www.students.ic.unicamp.br/~ra186454/doctor2_mini.xml')\n",
    "\n",
    "\n",
    "for $y in distinct-values($doctors//especialidade)\n",
    "for $x in $doctors//cidade\n",
    "\n",
    "let $count := count($x//medico[@cidade eq $y/@nome])\n",
    "order by $count descending\n",
    "\n",
    "return concat(\"(\",\" \", $y/@nome,\" \",$count, \")\")"
   ]
  },
  {
   "cell_type": "markdown",
   "metadata": {},
   "source": [
    "## Terceira Parte: Esquema de redes\n",
    "\n",
    "#### Fontes dos datasets utilizados:\n",
    "* Hospital General Information (hospital.csv), acesso em: https://data.medicare.gov/Hospital-Compare/Hospital-General-Information/xubh-q36u\n",
    "* Physician Compare National Downloadable File (doctor_mini.csv, reduzido do tamanho original de 700mb), acesso em: https://data.medicare.gov/Physician-Compare/Physician-Compare-National-Downloadable-File/mj5m-pzi6\n",
    "* World Cities Database ()\n",
    "\n",
    "### Modelo Conceitual:\n",
    "![Redes](esquema_conceitual_redes_trabfinal.jpeg)"
   ]
  },
  {
   "cell_type": "markdown",
   "metadata": {},
   "source": [
    "### Esquema dos gráficos:\n",
    "![Redes2](grafo_hospitais.jpg)"
   ]
  },
  {
   "cell_type": "markdown",
   "metadata": {},
   "source": [
    "## Criação de índices"
   ]
  },
  {
   "cell_type": "code",
   "execution_count": null,
   "metadata": {},
   "outputs": [],
   "source": [
    "CALL apoc.schema.assert(\n",
    " {County:['name'],City:['name'],ZipCode:['name'],Address:['name']},\n",
    " {Hospital:['id'],State:['name']});"
   ]
  },
  {
   "cell_type": "code",
   "execution_count": null,
   "metadata": {},
   "outputs": [],
   "source": [
    "LOAD CSV WITH HEADERS FROM \"http://www.students.ic.unicamp.br/~ra186454/hospital.csv\" as row\n",
    "MERGE (state:State{name:row.State})\n",
    "MERGE (state)<-[:IS_IN]-(county:County{name:row.`County Name`})\n",
    "MERGE (county)<-[:IS_IN]-(city:City{name:row.City})\n",
    "MERGE (city)<-[:IS_IN]-(zip:ZipCode{name:row.`ZIP Code`})\n",
    "MERGE (zip)<-[:IS_IN]-(address:Address{name:row.Address})\n",
    "MERGE (h:Hospital{id:row.`Provider ID`})\n",
    "ON CREATE SET h.phone=row.`Phone Number`,\n",
    "              h.emergency_services = row.`Emergency Services`,\n",
    "              h.name= row.`Hospital Name`,\n",
    "              h.mortality = row.`Mortality national comparison`,\n",
    "              h.safety = row.`Safety of care national comparison`,\n",
    "              h.timeliness = row.`Timeliness of care national comparison`,\n",
    "              h.experience = row.`Patient experience national comparison`,\n",
    "              h.effectiveness = row.`Effectiveness of care national comparison`\n",
    "MERGE (h)-[:IS_IN]->(address)\n",
    "MERGE (type:HospitalType{name:row.`Hospital Type`})\n",
    "MERGE (h)-[:HAS_TYPE]->(type)\n",
    "MERGE (ownership:Ownership{name: row.`Hospital Ownership`})\n",
    "MERGE (h)-[:HAS_OWNERSHIP]->(ownership)\n",
    "MERGE (rating:Rating{name:row.`Hospital overall rating`})\n",
    "MERGE (h)-[:HAS_RATING]->(rating)"
   ]
  },
  {
   "cell_type": "code",
   "execution_count": null,
   "metadata": {},
   "outputs": [],
   "source": [
    "LOAD CSV WITH HEADERS FROM \"http://www.students.ic.unicamp.br/~ra186454/worldcities.csv\" as row\n",
    "MATCH (hospital:Hospital {id:row.id})\n",
    "SET hospital.latitude = row.latitude, hospital.longitude = row.longitude"
   ]
  },
  {
   "cell_type": "markdown",
   "metadata": {},
   "source": [
    "* Query 1: Simulação dos 10 hospitais mais próximos de Liberty Island"
   ]
  },
  {
   "cell_type": "code",
   "execution_count": null,
   "metadata": {},
   "outputs": [],
   "source": [
    "with \"1 Liberty Island, New York\" as myLocation\n",
    "call apoc.spatial.geocodeOnce(myLocation) yield location\n",
    "WITH point({longitude: location.longitude, latitude: location.latitude}) as myPosition,100 as distanceInKm\n",
    "MATCH (h:Hospital)-->(rating:Rating)\n",
    "WHERE exists(h.latitude) and\n",
    "distance(myPosition, point({longitude:h.longitude,latitude:h.latitude})) < (distanceInKm * 100)\n",
    "RETURN h,rating.name as rating,distance(myPosition, point({longitude:h.longitude,latitude:h.latitude})) as distance order by distance limit 10"
   ]
  },
  {
   "cell_type": "markdown",
   "metadata": {},
   "source": [
    "* Query 2: Retornar os melhores 10 estados por avaliação"
   ]
  },
  {
   "cell_type": "code",
   "execution_count": null,
   "metadata": {},
   "outputs": [],
   "source": [
    "MATCH (r)<-[:HAS_RATING]-(h:Hospital)-[:IS_IN*5..5]->(state)\n",
    "where not r.name=\"Not Available\"\n",
    "return state.name as state,avg(toINT(r.name)) as averageRating,count(h) as numberOfHospitals order by averageRating desc limit 15"
   ]
  },
  {
   "cell_type": "markdown",
   "metadata": {},
   "source": [
    "* Query 3: Número de hospitais por cidade"
   ]
  },
  {
   "cell_type": "code",
   "execution_count": null,
   "metadata": {},
   "outputs": [],
   "source": [
    "MATCH (h:Hospital)-[:IS_IN*3..3]->(city)\n",
    "return city.name as city,count(h) as NumberOfHospitals order by NumberOfHospitals desc limit 15"
   ]
  },
  {
   "cell_type": "markdown",
   "metadata": {},
   "source": [
    "* Query 4: Estados com hospitais acima da média em efetividade de tratamento"
   ]
  },
  {
   "cell_type": "code",
   "execution_count": null,
   "metadata": {},
   "outputs": [],
   "source": [
    "MATCH (h:Hospital)-[:IS_IN*5..5]->(state) where h.effectiveness = \"Above the National average\"\n",
    "return state.name as state,h.effectiveness,count(h) as numberOfHospitals order by numberOfHospitals desc limit 15"
   ]
  },
  {
   "cell_type": "markdown",
   "metadata": {},
   "source": [
    "* Query 5: Estados com hospitais abaixo da média em mortalidade"
   ]
  },
  {
   "cell_type": "code",
   "execution_count": null,
   "metadata": {},
   "outputs": [],
   "source": [
    "MATCH (h:Hospital)-[:IS_IN*5..5]->(state) where h.mortality = \"Below the National average\"\n",
    "return state.name as state,h.mortality,count(h) as numberOfHospitals order by numberOfHospitals desc limit 15"
   ]
  }
 ],
 "metadata": {
  "kernelspec": {
   "display_name": "SQL",
   "language": "SQL",
   "name": "sql"
  },
  "language_info": {
   "codemirror_mode": "sql",
   "file_extension": ".sql",
   "mimetype": "",
   "name": "SQL",
   "nbconverter_exporter": "",
   "version": ""
  }
 },
 "nbformat": 4,
 "nbformat_minor": 2
}
